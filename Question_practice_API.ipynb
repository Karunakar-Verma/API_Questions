{
 "cells": [
  {
   "cell_type": "markdown",
   "id": "bfb256a6-d334-44c6-9221-f34a69b20366",
   "metadata": {},
   "source": [
    "# 18th_FEb_assignment"
   ]
  },
  {
   "cell_type": "code",
   "execution_count": 2,
   "id": "7928354b-127a-4872-9b3a-334a85bad97d",
   "metadata": {},
   "outputs": [],
   "source": [
    "#1)  What is an API? Give an example, where an API is used in real life. "
   ]
  },
  {
   "cell_type": "code",
   "execution_count": 3,
   "id": "ccff4c80-898b-442f-9d37-059980e53708",
   "metadata": {},
   "outputs": [
    {
     "data": {
      "text/plain": [
       "' \\nAn API (Application Programming Interface) is a set of rules that allows different software applications to communicate and interact with each other. It defines how different software components should interact and exchange data.\\n\\nReal-Life Example: Weather API\\nA weather application uses an API provided by a weather data provider to access real-time weather data (like current conditions and forecasts) without maintaining its own weather data infrastructure.\\n'"
      ]
     },
     "execution_count": 3,
     "metadata": {},
     "output_type": "execute_result"
    }
   ],
   "source": [
    "\"\"\" \n",
    "An API (Application Programming Interface) is a set of rules that allows different software applications to communicate and interact with each other. It defines how different software components should interact and exchange data.\n",
    "\n",
    "Real-Life Example: Weather API\n",
    "A weather application uses an API provided by a weather data provider to access real-time weather data (like current conditions and forecasts) without maintaining its own weather data infrastructure.\n",
    "\"\"\""
   ]
  },
  {
   "cell_type": "code",
   "execution_count": 4,
   "id": "3f5f9fa7-0545-4b35-9b9e-6927d66aa383",
   "metadata": {},
   "outputs": [],
   "source": [
    "# Q2. Give advantages and disadvantages of using API."
   ]
  },
  {
   "cell_type": "code",
   "execution_count": 5,
   "id": "d601f4a4-7000-45b8-b226-fde8f7c23dc1",
   "metadata": {},
   "outputs": [
    {
     "data": {
      "text/plain": [
       "'\\n\\n\\nAdvantages of using API:\\n\\n-Enhanced functionality through access to external services and functionalities.\\n-Easy integration and interoperability between different applications and systems.\\n\\nDisadvantages of using API:\\n\\n-Dependency on the availability and reliability of external APIs.\\n-Potential security and privacy risks if APIs are not properly designed and secured.\\n'"
      ]
     },
     "execution_count": 5,
     "metadata": {},
     "output_type": "execute_result"
    }
   ],
   "source": [
    "\"\"\"\n",
    "\n",
    "\n",
    "Advantages of using API:\n",
    "\n",
    "-Enhanced functionality through access to external services and functionalities.\n",
    "-Easy integration and interoperability between different applications and systems.\n",
    "\n",
    "Disadvantages of using API:\n",
    "\n",
    "-Dependency on the availability and reliability of external APIs.\n",
    "-Potential security and privacy risks if APIs are not properly designed and secured.\n",
    "\"\"\""
   ]
  },
  {
   "cell_type": "code",
   "execution_count": 6,
   "id": "c382535e-4544-49bd-a481-68d228933cea",
   "metadata": {},
   "outputs": [],
   "source": [
    "# Q3. What is a Web API? Differentiate between API and Web API."
   ]
  },
  {
   "cell_type": "code",
   "execution_count": 7,
   "id": "b96d88fa-4963-444b-a04a-0e62b2441da4",
   "metadata": {},
   "outputs": [
    {
     "data": {
      "text/plain": [
       "'\\n\\nA Web API, also known as a Web Service API, is an API specifically designed to be used over the internet using HTTP protocol. It allows applications to interact with each other over the web, enabling data exchange and functionality access between different software systems.\\n\\nDifference between API and Web API:\\n\\nAPI:\\n\\nAn API (Application Programming Interface) is a general term that refers to a set of rules and protocols that enable communication and interaction between different software components or applications.\\nAPIs can be used in various contexts, including local interactions between software modules within the same system or remote interactions over a network.\\nAPIs can be implemented using various protocols, such as HTTP, TCP/IP, or messaging protocols.\\nWeb API:\\n\\nA Web API is a specific type of API that is designed to be accessed over the web through standard HTTP methods (like GET, POST, PUT, DELETE).\\nIt typically uses JSON or XML as data formats for request and response payloads.\\nWeb APIs are widely used to enable communication between web-based applications and services, making them accessible across different platforms and devices.\\n'"
      ]
     },
     "execution_count": 7,
     "metadata": {},
     "output_type": "execute_result"
    }
   ],
   "source": [
    "\"\"\"\n",
    "\n",
    "A Web API, also known as a Web Service API, is an API specifically designed to be used over the internet using HTTP protocol. It allows applications to interact with each other over the web, enabling data exchange and functionality access between different software systems.\n",
    "\n",
    "Difference between API and Web API:\n",
    "\n",
    "API:\n",
    "\n",
    "An API (Application Programming Interface) is a general term that refers to a set of rules and protocols that enable communication and interaction between different software components or applications.\n",
    "APIs can be used in various contexts, including local interactions between software modules within the same system or remote interactions over a network.\n",
    "APIs can be implemented using various protocols, such as HTTP, TCP/IP, or messaging protocols.\n",
    "Web API:\n",
    "\n",
    "A Web API is a specific type of API that is designed to be accessed over the web through standard HTTP methods (like GET, POST, PUT, DELETE).\n",
    "It typically uses JSON or XML as data formats for request and response payloads.\n",
    "Web APIs are widely used to enable communication between web-based applications and services, making them accessible across different platforms and devices.\n",
    "\"\"\""
   ]
  },
  {
   "cell_type": "code",
   "execution_count": 8,
   "id": "baba49ad-4536-43e9-81e7-865fb83e6738",
   "metadata": {},
   "outputs": [],
   "source": [
    "# Explain REST and SOAP Architecture. Mention shortcomings of SOAP."
   ]
  },
  {
   "cell_type": "code",
   "execution_count": 9,
   "id": "73a4b5c8-7d24-4ee6-b9d6-5e2256ff1877",
   "metadata": {},
   "outputs": [
    {
     "data": {
      "text/plain": [
       "\"\\nREST (Representational State Transfer) Architecture:\\n\\nREST is a set of architectural principles for designing networked applications. It uses standard HTTP methods (GET, POST, PUT, DELETE) to interact with resources (data) on the web.\\nRESTful APIs are stateless, meaning each request from a client to the server must contain all the information needed to understand and process the request.\\nREST architecture is lightweight, scalable, and widely used in web-based applications due to its simplicity and ease of use.\\nSOAP (Simple Object Access Protocol) Architecture:\\n\\nSOAP is a protocol for exchanging structured information in the implementation of web services. It uses XML as its message format and can be transported over various protocols like HTTP, SMTP, etc.\\nSOAP APIs rely on XML schemas for defining message structure and can include security and transactional features.\\nSOAP is more rigid and complex compared to REST, making it suitable for enterprise-level applications with specific requirements.\\nShortcomings of SOAP:\\n\\nComplexity: SOAP messages are larger and more complex due to XML formatting, leading to higher bandwidth usage and slower performance.\\nOverhead: SOAP requires additional processing and parsing of XML, resulting in increased overhead for both the client and server.\\nLack of Flexibility: SOAP's rigid structure can make it challenging to implement changes and updates, especially when dealing with different platforms and technologies.\\n\\n\""
      ]
     },
     "execution_count": 9,
     "metadata": {},
     "output_type": "execute_result"
    }
   ],
   "source": [
    "\"\"\"\n",
    "REST (Representational State Transfer) Architecture:\n",
    "\n",
    "REST is a set of architectural principles for designing networked applications. It uses standard HTTP methods (GET, POST, PUT, DELETE) to interact with resources (data) on the web.\n",
    "RESTful APIs are stateless, meaning each request from a client to the server must contain all the information needed to understand and process the request.\n",
    "REST architecture is lightweight, scalable, and widely used in web-based applications due to its simplicity and ease of use.\n",
    "SOAP (Simple Object Access Protocol) Architecture:\n",
    "\n",
    "SOAP is a protocol for exchanging structured information in the implementation of web services. It uses XML as its message format and can be transported over various protocols like HTTP, SMTP, etc.\n",
    "SOAP APIs rely on XML schemas for defining message structure and can include security and transactional features.\n",
    "SOAP is more rigid and complex compared to REST, making it suitable for enterprise-level applications with specific requirements.\n",
    "Shortcomings of SOAP:\n",
    "\n",
    "Complexity: SOAP messages are larger and more complex due to XML formatting, leading to higher bandwidth usage and slower performance.\n",
    "Overhead: SOAP requires additional processing and parsing of XML, resulting in increased overhead for both the client and server.\n",
    "Lack of Flexibility: SOAP's rigid structure can make it challenging to implement changes and updates, especially when dealing with different platforms and technologies.\n",
    "\n",
    "\"\"\""
   ]
  },
  {
   "cell_type": "code",
   "execution_count": null,
   "id": "94d7bcb8-c0b4-4a09-b619-d545ceac708c",
   "metadata": {},
   "outputs": [],
   "source": []
  },
  {
   "cell_type": "code",
   "execution_count": null,
   "id": "48785b2d-c80e-4be0-b369-9c03e2cff3bd",
   "metadata": {},
   "outputs": [],
   "source": []
  }
 ],
 "metadata": {
  "kernelspec": {
   "display_name": "Python 3 (ipykernel)",
   "language": "python",
   "name": "python3"
  },
  "language_info": {
   "codemirror_mode": {
    "name": "ipython",
    "version": 3
   },
   "file_extension": ".py",
   "mimetype": "text/x-python",
   "name": "python",
   "nbconvert_exporter": "python",
   "pygments_lexer": "ipython3",
   "version": "3.10.8"
  }
 },
 "nbformat": 4,
 "nbformat_minor": 5
}
